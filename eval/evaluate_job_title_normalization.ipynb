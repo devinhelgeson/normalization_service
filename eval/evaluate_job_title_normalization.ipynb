{
 "cells": [
  {
   "cell_type": "code",
   "execution_count": 18,
   "id": "5e7b5c24",
   "metadata": {},
   "outputs": [],
   "source": [
    "import json\n",
    "from pathlib import Path\n",
    "from datetime import datetime\n",
    "\n",
    "import httpx\n",
    "import pandas as pd\n",
    "import matplotlib.pyplot as plt\n",
    "import seaborn as sns\n",
    "from IPython.display import display, Markdown\n",
    "\n",
    "# Load evaluation dataset\n",
    "eval_dataset_path = Path(\"eval_dataset.json\")\n",
    "with open(eval_dataset_path, \"r\") as f:\n",
    "    eval_dataset = json.load(f)\n",
    "\n",
    "API_BASE = \"http://127.0.0.1:8000\"\n",
    "ENDPOINTS = {\n",
    "    \"embedding_only\": \"/suggestions\",\n",
    "    \"combined\": \"/suggestions/combined\",\n",
    "    \"hybrid_pg\": \"/suggestions/hybrid\"\n",
    "}\n",
    "\n",
    "reports_dir = Path(\"reports\")\n",
    "reports_dir.mkdir(parents=True, exist_ok=True)\n",
    "\n",
    "sns.set(style=\"whitegrid\")"
   ]
  },
  {
   "cell_type": "code",
   "execution_count": 22,
   "id": "0a179ee7",
   "metadata": {},
   "outputs": [],
   "source": [
    "eval_df = pd.DataFrame(eval_dataset)"
   ]
  },
  {
   "cell_type": "code",
   "execution_count": 23,
   "id": "5cb1eb28",
   "metadata": {},
   "outputs": [
    {
     "data": {
      "application/vnd.microsoft.datawrangler.viewer.v0+json": {
       "columns": [
        {
         "name": "index",
         "rawType": "int64",
         "type": "integer"
        },
        {
         "name": "input_title",
         "rawType": "object",
         "type": "string"
        },
        {
         "name": "expected_title",
         "rawType": "object",
         "type": "string"
        }
       ],
       "ref": "46fe2c13-b173-44bb-bf47-be7d50e97c40",
       "rows": [
        [
         "0",
         "software dev",
         "Software Developers"
        ],
        [
         "1",
         "java programmer",
         "Computer Programmers"
        ],
        [
         "2",
         "data scientist",
         "Data Scientists"
        ],
        [
         "3",
         "cybersecurity analyst",
         "Information Security Analysts"
        ],
        [
         "4",
         "mechanical engineer",
         "Mechanical Engineers"
        ],
        [
         "5",
         "civil eng",
         "Civil Engineers"
        ],
        [
         "6",
         "electrical engineer",
         "Electrical Engineers"
        ],
        [
         "7",
         "lab tech",
         "Medical and Clinical Lab Technicians"
        ],
        [
         "8",
         "research assistant",
         "Medical Assistants"
        ],
        [
         "9",
         "registered nurse",
         "Registered Nurses"
        ],
        [
         "10",
         "rn",
         "Registered Nurses"
        ],
        [
         "11",
         "family doctor",
         "Family Medicine Physicians"
        ],
        [
         "12",
         "surgeon",
         "Surgeons"
        ],
        [
         "13",
         "pharmacist",
         "Pharmacists"
        ],
        [
         "14",
         "dental hygienist",
         "Dental Hygienists"
        ],
        [
         "15",
         "vet tech",
         "Veterinary Technologists and Technicians"
        ],
        [
         "16",
         "cna",
         "Nursing Assistants"
        ],
        [
         "17",
         "school nurse",
         "Registered Nurses"
        ],
        [
         "18",
         "school counselor",
         "Educational, Guidance, and Career Counselors and Advisors"
        ],
        [
         "19",
         "guidance counselor",
         "Educational, Guidance, and Career Counselors and Advisors"
        ],
        [
         "20",
         "math teacher",
         "Secondary School Teachers, Except Special and Career/Technical Education"
        ],
        [
         "21",
         "history teacher",
         "History Teachers, Postsecondary"
        ],
        [
         "22",
         "elementary teacher",
         "Elementary School Teachers"
        ],
        [
         "23",
         "special ed teacher",
         "Special Education Teachers"
        ],
        [
         "24",
         "tutor",
         "Tutors"
        ],
        [
         "25",
         "preschool teacher",
         "Preschool Teachers"
        ],
        [
         "26",
         "college professor",
         "Postsecondary Teachers"
        ],
        [
         "27",
         "adjunct professor",
         "Postsecondary Teachers"
        ],
        [
         "28",
         "academic advisor",
         "Educational, Guidance, and Career Counselors and Advisors"
        ],
        [
         "29",
         "financial analyst",
         "Financial Analysts"
        ],
        [
         "30",
         "accountant",
         "Accountants and Auditors"
        ],
        [
         "31",
         "bookkeeper",
         "Bookkeeping, Accounting, and Auditing Clerks"
        ],
        [
         "32",
         "auditor",
         "Accountants and Auditors"
        ],
        [
         "33",
         "tax preparer",
         "Tax Preparers"
        ],
        [
         "34",
         "investment banker",
         "Securities, Commodities, and Financial Services Sales Agents"
        ],
        [
         "35",
         "loan officer",
         "Loan Officers"
        ],
        [
         "36",
         "bank teller",
         "Tellers"
        ],
        [
         "37",
         "hr manager",
         "Human Resources Managers"
        ],
        [
         "38",
         "recruiter",
         "Human Resources Specialists"
        ],
        [
         "39",
         "payroll clerk",
         "Payroll and Timekeeping Clerks"
        ],
        [
         "40",
         "marketing manager",
         "Marketing Managers"
        ],
        [
         "41",
         "brand strategist",
         "Market Research Analysts and Marketing Specialists"
        ],
        [
         "42",
         "social media manager",
         "Public Relations Specialists"
        ],
        [
         "43",
         "content writer",
         "Writers and Authors"
        ],
        [
         "44",
         "copywriter",
         "Writers and Authors"
        ],
        [
         "45",
         "editor",
         "Editors"
        ],
        [
         "46",
         "journalist",
         "News Analysts, Reporters, and Journalists"
        ],
        [
         "47",
         "publicist",
         "Public Relations Specialists"
        ],
        [
         "48",
         "communications manager",
         "Public Relations Managers"
        ],
        [
         "49",
         "graphic designer",
         "Graphic Designers"
        ]
       ],
       "shape": {
        "columns": 2,
        "rows": 141
       }
      },
      "text/html": [
       "<div>\n",
       "<style scoped>\n",
       "    .dataframe tbody tr th:only-of-type {\n",
       "        vertical-align: middle;\n",
       "    }\n",
       "\n",
       "    .dataframe tbody tr th {\n",
       "        vertical-align: top;\n",
       "    }\n",
       "\n",
       "    .dataframe thead th {\n",
       "        text-align: right;\n",
       "    }\n",
       "</style>\n",
       "<table border=\"1\" class=\"dataframe\">\n",
       "  <thead>\n",
       "    <tr style=\"text-align: right;\">\n",
       "      <th></th>\n",
       "      <th>input_title</th>\n",
       "      <th>expected_title</th>\n",
       "    </tr>\n",
       "  </thead>\n",
       "  <tbody>\n",
       "    <tr>\n",
       "      <th>0</th>\n",
       "      <td>software dev</td>\n",
       "      <td>Software Developers</td>\n",
       "    </tr>\n",
       "    <tr>\n",
       "      <th>1</th>\n",
       "      <td>java programmer</td>\n",
       "      <td>Computer Programmers</td>\n",
       "    </tr>\n",
       "    <tr>\n",
       "      <th>2</th>\n",
       "      <td>data scientist</td>\n",
       "      <td>Data Scientists</td>\n",
       "    </tr>\n",
       "    <tr>\n",
       "      <th>3</th>\n",
       "      <td>cybersecurity analyst</td>\n",
       "      <td>Information Security Analysts</td>\n",
       "    </tr>\n",
       "    <tr>\n",
       "      <th>4</th>\n",
       "      <td>mechanical engineer</td>\n",
       "      <td>Mechanical Engineers</td>\n",
       "    </tr>\n",
       "    <tr>\n",
       "      <th>...</th>\n",
       "      <td>...</td>\n",
       "      <td>...</td>\n",
       "    </tr>\n",
       "    <tr>\n",
       "      <th>136</th>\n",
       "      <td>florist</td>\n",
       "      <td>Floral Designers</td>\n",
       "    </tr>\n",
       "    <tr>\n",
       "      <th>137</th>\n",
       "      <td>baker</td>\n",
       "      <td>Bakers</td>\n",
       "    </tr>\n",
       "    <tr>\n",
       "      <th>138</th>\n",
       "      <td>pastry chef</td>\n",
       "      <td>Chefs and Head Cooks</td>\n",
       "    </tr>\n",
       "    <tr>\n",
       "      <th>139</th>\n",
       "      <td>butcher</td>\n",
       "      <td>Butchers and Meat Cutters</td>\n",
       "    </tr>\n",
       "    <tr>\n",
       "      <th>140</th>\n",
       "      <td>brewer</td>\n",
       "      <td>Food and Tobacco Roasting, Baking, and Drying ...</td>\n",
       "    </tr>\n",
       "  </tbody>\n",
       "</table>\n",
       "<p>141 rows × 2 columns</p>\n",
       "</div>"
      ],
      "text/plain": [
       "               input_title                                     expected_title\n",
       "0             software dev                                Software Developers\n",
       "1          java programmer                               Computer Programmers\n",
       "2           data scientist                                    Data Scientists\n",
       "3    cybersecurity analyst                      Information Security Analysts\n",
       "4      mechanical engineer                               Mechanical Engineers\n",
       "..                     ...                                                ...\n",
       "136                florist                                   Floral Designers\n",
       "137                  baker                                             Bakers\n",
       "138            pastry chef                               Chefs and Head Cooks\n",
       "139                butcher                          Butchers and Meat Cutters\n",
       "140                 brewer  Food and Tobacco Roasting, Baking, and Drying ...\n",
       "\n",
       "[141 rows x 2 columns]"
      ]
     },
     "execution_count": 23,
     "metadata": {},
     "output_type": "execute_result"
    }
   ],
   "source": [
    "eval_df"
   ]
  },
  {
   "cell_type": "code",
   "execution_count": 25,
   "id": "1a20c798",
   "metadata": {},
   "outputs": [],
   "source": [
    "def evaluate_api(endpoint, params, eval_data):\n",
    "    predictions = []\n",
    "    with httpx.Client() as client:\n",
    "        for _, row in eval_data.iterrows():\n",
    "            q = row[\"input_title\"]\n",
    "            expected = row[\"expected_title\"]\n",
    "            try:\n",
    "                resp = client.get(endpoint, params={**params, \"q\": q})\n",
    "                resp.raise_for_status()\n",
    "                results = resp.json().get(\"matches\", [])\n",
    "                if results:\n",
    "                    top = results[0]\n",
    "                    predictions.append({\n",
    "                        \"input\": q,\n",
    "                        \"expected\": expected,\n",
    "                        \"predicted\": top[\"name\"],\n",
    "                        \"score\": top.get(\"embedding_score\") or top.get(\"final_score\"),\n",
    "                        \"correct\": top[\"name\"] == expected\n",
    "                    })\n",
    "                else:\n",
    "                    predictions.append({\n",
    "                        \"input\": q, \"expected\": expected, \"predicted\": None, \"score\": None, \"correct\": False\n",
    "                    })\n",
    "            except Exception:\n",
    "                predictions.append({\n",
    "                    \"input\": q, \"expected\": expected, \"predicted\": None, \"score\": None, \"correct\": False\n",
    "                })\n",
    "\n",
    "    df = pd.DataFrame(predictions)\n",
    "    TP = df[\"correct\"].sum()\n",
    "    FP = len(df[(df[\"predicted\"].notnull()) & (~df[\"correct\"])])\n",
    "    FN = len(df[df[\"predicted\"].isnull()])\n",
    "\n",
    "    precision = TP / (TP + FP) if TP + FP > 0 else 0\n",
    "    recall = TP / (TP + FN) if TP + FN > 0 else 0\n",
    "    f1 = (2 * precision * recall / (precision + recall)) if (precision + recall) > 0 else 0\n",
    "    coverage = len(df[df[\"predicted\"].notnull()]) / len(df)\n",
    "\n",
    "    return df, {\"precision\": precision, \"recall\": recall, \"f1\": f1, \"coverage\": coverage}"
   ]
  },
  {
   "cell_type": "code",
   "execution_count": 29,
   "id": "0a08e1ad",
   "metadata": {},
   "outputs": [
    {
     "name": "stdout",
     "output_type": "stream",
     "text": [
      "{'precision': 0.6666666666666666, 'recall': 1.0, 'f1': 0.8, 'coverage': 1.0}\n"
     ]
    },
    {
     "data": {
      "application/vnd.microsoft.datawrangler.viewer.v0+json": {
       "columns": [
        {
         "name": "index",
         "rawType": "int64",
         "type": "integer"
        },
        {
         "name": "input",
         "rawType": "object",
         "type": "string"
        },
        {
         "name": "expected",
         "rawType": "object",
         "type": "string"
        },
        {
         "name": "predicted",
         "rawType": "object",
         "type": "string"
        },
        {
         "name": "score",
         "rawType": "float64",
         "type": "float"
        },
        {
         "name": "correct",
         "rawType": "bool",
         "type": "boolean"
        }
       ],
       "ref": "7f4fb34c-c895-4ca1-9ba7-2c77e9ab6e6a",
       "rows": [
        [
         "0",
         "software dev",
         "Software Developers",
         "Software Developers",
         "0.8576934762871233",
         "True"
        ],
        [
         "1",
         "java programmer",
         "Computer Programmers",
         "Computer Programmers",
         "0.7114558139820444",
         "True"
        ],
        [
         "2",
         "data scientist",
         "Data Scientists",
         "Data Scientists",
         "0.9581457065983331",
         "True"
        ],
        [
         "3",
         "cybersecurity analyst",
         "Information Security Analysts",
         "Information Security Analysts",
         "0.7956151488056704",
         "True"
        ],
        [
         "4",
         "mechanical engineer",
         "Mechanical Engineers",
         "Mechanical Engineers",
         "0.9716076884737456",
         "True"
        ],
        [
         "5",
         "civil eng",
         "Civil Engineers",
         "Civil Engineers",
         "0.7833569412423123",
         "True"
        ],
        [
         "6",
         "electrical engineer",
         "Electrical Engineers",
         "Electrical Engineers",
         "0.9690026640892029",
         "True"
        ],
        [
         "7",
         "lab tech",
         "Medical and Clinical Lab Technicians",
         "Medical and Clinical Laboratory Technicians",
         "0.7441005845249744",
         "False"
        ],
        [
         "8",
         "research assistant",
         "Medical Assistants",
         "Medical Assistants",
         "0.703892403145004",
         "True"
        ],
        [
         "9",
         "registered nurse",
         "Registered Nurses",
         "Registered Nurses",
         "0.9565347484904896",
         "True"
        ],
        [
         "10",
         "rn",
         "Registered Nurses",
         "Clinical Nurse Specialists",
         "0.3356184563409368",
         "False"
        ],
        [
         "11",
         "family doctor",
         "Family Medicine Physicians",
         "Family Medicine Physicians",
         "0.87721801535976",
         "True"
        ],
        [
         "12",
         "surgeon",
         "Surgeons",
         "Pediatric Surgeons",
         "0.7366609887288874",
         "False"
        ],
        [
         "13",
         "pharmacist",
         "Pharmacists",
         "Pharmacists",
         "0.9436295662147082",
         "True"
        ],
        [
         "14",
         "dental hygienist",
         "Dental Hygienists",
         "Dental Hygienists",
         "0.9591390800732686",
         "True"
        ],
        [
         "15",
         "vet tech",
         "Veterinary Technologists and Technicians",
         "Veterinary Technologists and Technicians",
         "0.8367834881802275",
         "True"
        ],
        [
         "16",
         "cna",
         "Nursing Assistants",
         "Nursing Assistants",
         "0.5473337982892168",
         "True"
        ],
        [
         "17",
         "school nurse",
         "Registered Nurses",
         "Clinical Nurse Specialists",
         "0.666705568629182",
         "False"
        ],
        [
         "18",
         "school counselor",
         "Educational, Guidance, and Career Counselors and Advisors",
         "School Psychologists",
         "0.7009495674997839",
         "False"
        ],
        [
         "19",
         "guidance counselor",
         "Educational, Guidance, and Career Counselors and Advisors",
         "Educational, Guidance, and Career Counselors and Advisors",
         "0.7761805324339287",
         "True"
        ],
        [
         "20",
         "math teacher",
         "Secondary School Teachers, Except Special and Career/Technical Education",
         "Mathematical Science Teachers, Postsecondary",
         "0.7795081270034251",
         "False"
        ],
        [
         "21",
         "history teacher",
         "History Teachers, Postsecondary",
         "History Teachers, Postsecondary",
         "0.7932404279708862",
         "True"
        ],
        [
         "22",
         "elementary teacher",
         "Elementary School Teachers",
         "Elementary School Teachers, Except Special Education",
         "0.6994050324317806",
         "False"
        ],
        [
         "23",
         "special ed teacher",
         "Special Education Teachers",
         "Special Education Teachers, Elementary School",
         "0.8538287281990051",
         "False"
        ],
        [
         "24",
         "tutor",
         "Tutors",
         "Tutors",
         "0.9346625169910517",
         "True"
        ],
        [
         "25",
         "preschool teacher",
         "Preschool Teachers",
         "Preschool Teachers, Except Special Education",
         "0.7666885852813775",
         "False"
        ],
        [
         "26",
         "college professor",
         "Postsecondary Teachers",
         "Education Administrators, Postsecondary",
         "0.5633589885616915",
         "False"
        ],
        [
         "27",
         "adjunct professor",
         "Postsecondary Teachers",
         "Instructional Coordinators",
         "0.5491796895617157",
         "False"
        ],
        [
         "28",
         "academic advisor",
         "Educational, Guidance, and Career Counselors and Advisors",
         "Residential Advisors",
         "0.6564927920120258",
         "False"
        ],
        [
         "29",
         "financial analyst",
         "Financial Analysts",
         "Financial and Investment Analysts",
         "0.8735129833221498",
         "False"
        ],
        [
         "30",
         "accountant",
         "Accountants and Auditors",
         "Accountants and Auditors",
         "0.7817829717268331",
         "True"
        ],
        [
         "31",
         "bookkeeper",
         "Bookkeeping, Accounting, and Auditing Clerks",
         "Bookkeeping, Accounting, and Auditing Clerks",
         "0.57604437159963",
         "True"
        ],
        [
         "32",
         "auditor",
         "Accountants and Auditors",
         "Accountants and Auditors",
         "0.8087281470732777",
         "True"
        ],
        [
         "33",
         "tax preparer",
         "Tax Preparers",
         "Tax Preparers",
         "0.93270847000803",
         "True"
        ],
        [
         "34",
         "investment banker",
         "Securities, Commodities, and Financial Services Sales Agents",
         "Financial Managers",
         "0.6579916477203369",
         "False"
        ],
        [
         "35",
         "loan officer",
         "Loan Officers",
         "Loan Officers",
         "0.9426188468933105",
         "True"
        ],
        [
         "36",
         "bank teller",
         "Tellers",
         "Tellers",
         "0.7832932109622127",
         "True"
        ],
        [
         "37",
         "hr manager",
         "Human Resources Managers",
         "Human Resources Managers",
         "0.8314681997457717",
         "True"
        ],
        [
         "38",
         "recruiter",
         "Human Resources Specialists",
         "Aircraft Service Attendants",
         "0.5059600465345327",
         "False"
        ],
        [
         "39",
         "payroll clerk",
         "Payroll and Timekeeping Clerks",
         "Payroll and Timekeeping Clerks",
         "0.8067480921745358",
         "True"
        ],
        [
         "40",
         "marketing manager",
         "Marketing Managers",
         "Marketing Managers",
         "0.9604336619377136",
         "True"
        ],
        [
         "41",
         "brand strategist",
         "Market Research Analysts and Marketing Specialists",
         "Search Marketing Strategists",
         "0.6178015926120811",
         "False"
        ],
        [
         "42",
         "social media manager",
         "Public Relations Specialists",
         "Public Relations Managers",
         "0.6554722580595181",
         "False"
        ],
        [
         "43",
         "content writer",
         "Writers and Authors",
         "Technical Writers",
         "0.5876204758595286",
         "False"
        ],
        [
         "44",
         "copywriter",
         "Writers and Authors",
         "Proofreaders and Copy Markers",
         "0.5032975673675537",
         "False"
        ],
        [
         "45",
         "editor",
         "Editors",
         "Editors",
         "0.9246031045913696",
         "True"
        ],
        [
         "46",
         "journalist",
         "News Analysts, Reporters, and Journalists",
         "News Analysts, Reporters, and Journalists",
         "0.6921872084029304",
         "True"
        ],
        [
         "47",
         "publicist",
         "Public Relations Specialists",
         "Public Relations Specialists",
         "0.5117112689190356",
         "True"
        ],
        [
         "48",
         "communications manager",
         "Public Relations Managers",
         "Telecommunications Engineering Specialists",
         "0.6864010282515879",
         "False"
        ],
        [
         "49",
         "graphic designer",
         "Graphic Designers",
         "Graphic Designers",
         "0.9536148365003133",
         "True"
        ]
       ],
       "shape": {
        "columns": 5,
        "rows": 141
       }
      },
      "text/html": [
       "<div>\n",
       "<style scoped>\n",
       "    .dataframe tbody tr th:only-of-type {\n",
       "        vertical-align: middle;\n",
       "    }\n",
       "\n",
       "    .dataframe tbody tr th {\n",
       "        vertical-align: top;\n",
       "    }\n",
       "\n",
       "    .dataframe thead th {\n",
       "        text-align: right;\n",
       "    }\n",
       "</style>\n",
       "<table border=\"1\" class=\"dataframe\">\n",
       "  <thead>\n",
       "    <tr style=\"text-align: right;\">\n",
       "      <th></th>\n",
       "      <th>input</th>\n",
       "      <th>expected</th>\n",
       "      <th>predicted</th>\n",
       "      <th>score</th>\n",
       "      <th>correct</th>\n",
       "    </tr>\n",
       "  </thead>\n",
       "  <tbody>\n",
       "    <tr>\n",
       "      <th>0</th>\n",
       "      <td>software dev</td>\n",
       "      <td>Software Developers</td>\n",
       "      <td>Software Developers</td>\n",
       "      <td>0.857693</td>\n",
       "      <td>True</td>\n",
       "    </tr>\n",
       "    <tr>\n",
       "      <th>1</th>\n",
       "      <td>java programmer</td>\n",
       "      <td>Computer Programmers</td>\n",
       "      <td>Computer Programmers</td>\n",
       "      <td>0.711456</td>\n",
       "      <td>True</td>\n",
       "    </tr>\n",
       "    <tr>\n",
       "      <th>2</th>\n",
       "      <td>data scientist</td>\n",
       "      <td>Data Scientists</td>\n",
       "      <td>Data Scientists</td>\n",
       "      <td>0.958146</td>\n",
       "      <td>True</td>\n",
       "    </tr>\n",
       "    <tr>\n",
       "      <th>3</th>\n",
       "      <td>cybersecurity analyst</td>\n",
       "      <td>Information Security Analysts</td>\n",
       "      <td>Information Security Analysts</td>\n",
       "      <td>0.795615</td>\n",
       "      <td>True</td>\n",
       "    </tr>\n",
       "    <tr>\n",
       "      <th>4</th>\n",
       "      <td>mechanical engineer</td>\n",
       "      <td>Mechanical Engineers</td>\n",
       "      <td>Mechanical Engineers</td>\n",
       "      <td>0.971608</td>\n",
       "      <td>True</td>\n",
       "    </tr>\n",
       "    <tr>\n",
       "      <th>...</th>\n",
       "      <td>...</td>\n",
       "      <td>...</td>\n",
       "      <td>...</td>\n",
       "      <td>...</td>\n",
       "      <td>...</td>\n",
       "    </tr>\n",
       "    <tr>\n",
       "      <th>136</th>\n",
       "      <td>florist</td>\n",
       "      <td>Floral Designers</td>\n",
       "      <td>Floral Designers</td>\n",
       "      <td>0.671231</td>\n",
       "      <td>True</td>\n",
       "    </tr>\n",
       "    <tr>\n",
       "      <th>137</th>\n",
       "      <td>baker</td>\n",
       "      <td>Bakers</td>\n",
       "      <td>Bakers</td>\n",
       "      <td>0.875912</td>\n",
       "      <td>True</td>\n",
       "    </tr>\n",
       "    <tr>\n",
       "      <th>138</th>\n",
       "      <td>pastry chef</td>\n",
       "      <td>Chefs and Head Cooks</td>\n",
       "      <td>Chefs and Head Cooks</td>\n",
       "      <td>0.601943</td>\n",
       "      <td>True</td>\n",
       "    </tr>\n",
       "    <tr>\n",
       "      <th>139</th>\n",
       "      <td>butcher</td>\n",
       "      <td>Butchers and Meat Cutters</td>\n",
       "      <td>Butchers and Meat Cutters</td>\n",
       "      <td>0.735923</td>\n",
       "      <td>True</td>\n",
       "    </tr>\n",
       "    <tr>\n",
       "      <th>140</th>\n",
       "      <td>brewer</td>\n",
       "      <td>Food and Tobacco Roasting, Baking, and Drying ...</td>\n",
       "      <td>Bartenders</td>\n",
       "      <td>0.483741</td>\n",
       "      <td>False</td>\n",
       "    </tr>\n",
       "  </tbody>\n",
       "</table>\n",
       "<p>141 rows × 5 columns</p>\n",
       "</div>"
      ],
      "text/plain": [
       "                     input                                           expected  \\\n",
       "0             software dev                                Software Developers   \n",
       "1          java programmer                               Computer Programmers   \n",
       "2           data scientist                                    Data Scientists   \n",
       "3    cybersecurity analyst                      Information Security Analysts   \n",
       "4      mechanical engineer                               Mechanical Engineers   \n",
       "..                     ...                                                ...   \n",
       "136                florist                                   Floral Designers   \n",
       "137                  baker                                             Bakers   \n",
       "138            pastry chef                               Chefs and Head Cooks   \n",
       "139                butcher                          Butchers and Meat Cutters   \n",
       "140                 brewer  Food and Tobacco Roasting, Baking, and Drying ...   \n",
       "\n",
       "                         predicted     score  correct  \n",
       "0              Software Developers  0.857693     True  \n",
       "1             Computer Programmers  0.711456     True  \n",
       "2                  Data Scientists  0.958146     True  \n",
       "3    Information Security Analysts  0.795615     True  \n",
       "4             Mechanical Engineers  0.971608     True  \n",
       "..                             ...       ...      ...  \n",
       "136               Floral Designers  0.671231     True  \n",
       "137                         Bakers  0.875912     True  \n",
       "138           Chefs and Head Cooks  0.601943     True  \n",
       "139      Butchers and Meat Cutters  0.735923     True  \n",
       "140                     Bartenders  0.483741    False  \n",
       "\n",
       "[141 rows x 5 columns]"
      ]
     },
     "execution_count": 29,
     "metadata": {},
     "output_type": "execute_result"
    }
   ],
   "source": [
    "df, metrics = evaluate_api(\n",
    "    endpoint=\"http://127.0.0.1:8000/match/embedding\", \n",
    "    params={\n",
    "        \"limit\": 1,\n",
    "        \"embedding_score_threshold\": 0.0\n",
    "    },\n",
    "    eval_data=eval_df\n",
    ")\n",
    "print(metrics)\n",
    "df"
   ]
  },
  {
   "cell_type": "code",
   "execution_count": 32,
   "id": "422ea86d",
   "metadata": {},
   "outputs": [
    {
     "data": {
      "image/png": "[encoded data removed]",
      "text/plain": [
       "<Figure size 1000x600 with 1 Axes>"
      ]
     },
     "metadata": {},
     "output_type": "display_data"
    },
    {
     "name": "stdout",
     "output_type": "stream",
     "text": [
      "Best thresholds by metric:\n",
      "precision: threshold=0.8747, value=1.0000\n",
      "recall: threshold=0.3356, value=1.0000\n",
      "f1: threshold=0.6485, value=0.8358\n",
      "accuracy: threshold=0.6485, value=0.7660\n",
      "coverage: threshold=0.3356, value=1.0000\n"
     ]
    }
   ],
   "source": [
    "df_sorted = df.sort_values(\"score\").reset_index(drop=True)\n",
    "thresholds = df_sorted[\"score\"].tolist()\n",
    "\n",
    "best_thresholds = {\n",
    "    \"precision\": {\"threshold\": None, \"value\": -1},\n",
    "    \"recall\": {\"threshold\": None, \"value\": -1},\n",
    "    \"f1\": {\"threshold\": None, \"value\": -1},\n",
    "    \"accuracy\": {\"threshold\": None, \"value\": -1},\n",
    "    \"coverage\": {\"threshold\": None, \"value\": -1}\n",
    "}\n",
    "\n",
    "metrics = []\n",
    "for t in thresholds:\n",
    "    valid = df_sorted[\"score\"] >= t\n",
    "    TP = ((valid) & (df_sorted[\"correct\"])).sum()\n",
    "    FP = ((valid) & (~df_sorted[\"correct\"])).sum()\n",
    "    FN = ((~valid) & (df_sorted[\"correct\"])).sum()\n",
    "    TN = ((~valid) & (~df_sorted[\"correct\"])).sum()\n",
    "\n",
    "    precision = TP / (TP + FP) if (TP + FP) > 0 else 0\n",
    "    recall = TP / (TP + FN) if (TP + FN) > 0 else 0\n",
    "    f1 = (2 * precision * recall / (precision + recall)) if (precision + recall) > 0 else 0\n",
    "    accuracy = (TP + TN) / len(df_sorted)\n",
    "    coverage = valid.mean()\n",
    "\n",
    "    if precision > best_thresholds[\"precision\"][\"value\"]:\n",
    "        best_thresholds[\"precision\"] = {\"threshold\": t, \"value\": precision}\n",
    "    if recall > best_thresholds[\"recall\"][\"value\"]:\n",
    "        best_thresholds[\"recall\"] = {\"threshold\": t, \"value\": recall}\n",
    "    if f1 > best_thresholds[\"f1\"][\"value\"]:\n",
    "        best_thresholds[\"f1\"] = {\"threshold\": t, \"value\": f1}\n",
    "    if accuracy > best_thresholds[\"accuracy\"][\"value\"]:\n",
    "        best_thresholds[\"accuracy\"] = {\"threshold\": t, \"value\": accuracy}\n",
    "    if coverage > best_thresholds[\"coverage\"][\"value\"]:\n",
    "        best_thresholds[\"coverage\"] = {\"threshold\": t, \"value\": coverage}\n",
    "\n",
    "    metrics.append({\n",
    "        \"score\": t,\n",
    "        \"precision\": precision,\n",
    "        \"recall\": recall,\n",
    "        \"f1\": f1,\n",
    "        \"accuracy\": accuracy,\n",
    "        \"coverage\": coverage\n",
    "    })\n",
    "\n",
    "metrics_df = pd.DataFrame(metrics)\n",
    "\n",
    "# Plot metrics vs score\n",
    "plt.figure(figsize=(10, 6))\n",
    "plt.plot(metrics_df[\"score\"], metrics_df[\"precision\"], label=\"Precision\")\n",
    "plt.plot(metrics_df[\"score\"], metrics_df[\"recall\"], label=\"Recall\")\n",
    "plt.plot(metrics_df[\"score\"], metrics_df[\"f1\"], label=\"F1\")\n",
    "plt.plot(metrics_df[\"score\"], metrics_df[\"accuracy\"], label=\"Accuracy\")\n",
    "plt.plot(metrics_df[\"score\"], metrics_df[\"coverage\"], label=\"Coverage\", linestyle=\"--\", color=\"gray\")\n",
    "\n",
    "plt.xlabel(\"Score Threshold\")\n",
    "plt.ylabel(\"Metric Value\")\n",
    "plt.title(\"Metrics vs Score Threshold\")\n",
    "plt.ylim(0, 1.05)\n",
    "plt.legend()\n",
    "plt.grid(True)\n",
    "plt.show()\n",
    "\n",
    "# Show best thresholds\n",
    "print(\"Best thresholds by metric:\")\n",
    "for metric, data in best_thresholds.items():\n",
    "    print(f\"{metric}: threshold={data['threshold']:.4f}, value={data['value']:.4f}\")"
   ]
  },
  {
   "cell_type": "code",
   "execution_count": null,
   "id": "b0cbc6e9",
   "metadata": {},
   "outputs": [],
   "source": [
    "def call_job_title_api(endpoint, )"
   ]
  },
  {
   "cell_type": "code",
   "execution_count": 10,
   "id": "b143f082",
   "metadata": {},
   "outputs": [],
   "source": [
    "def run_experiment(name, endpoint, params=None):\n",
    "    params = params or {}\n",
    "    predictions = {}\n",
    "\n",
    "    with httpx.Client() as client:\n",
    "        for row in eval_dataset:\n",
    "            q = row[\"input_title\"]\n",
    "            try:\n",
    "                response = client.get(API_BASE + endpoint, params={\"q\": q, **params})\n",
    "                response.raise_for_status()\n",
    "\n",
    "                if endpoint == \"/suggestions\":\n",
    "                    suggestions = response.json().get(\"suggestions\", [])\n",
    "                    predictions[q] = suggestions[0][\"name\"] if suggestions else None\n",
    "                else:\n",
    "                    results = response.json().get(\"results\", [])\n",
    "                    predictions[q] = results[0][\"title\"] if results else None\n",
    "            except Exception as e:\n",
    "                predictions[q] = None\n",
    "\n",
    "    y_true = [r[\"expected_title\"] for r in eval_dataset]\n",
    "    y_pred = [predictions[r[\"input_title\"]] for r in eval_dataset]\n",
    "\n",
    "    TP = sum((yt == yp) for yt, yp in zip(y_true, y_pred) if yp is not None)\n",
    "    FP = sum((yt != yp) for yt, yp in zip(y_true, y_pred) if yp is not None)\n",
    "    FN = sum((yp is None) for yp in y_pred)\n",
    "\n",
    "    precision = TP / (TP + FP) if TP + FP > 0 else 0\n",
    "    recall = TP / (TP + FN) if TP + FN > 0 else 0\n",
    "    f1 = 2 * precision * recall / (precision + recall) if precision + recall > 0 else 0\n",
    "\n",
    "    results_df = pd.DataFrame([\n",
    "        {\n",
    "            \"input_title\": r[\"input_title\"],\n",
    "            \"expected\": r[\"expected_title\"],\n",
    "            \"predicted\": predictions[r[\"input_title\"]],\n",
    "            \"correct\": predictions[r[\"input_title\"]] == r[\"expected_title\"]\n",
    "        }\n",
    "        for r in eval_dataset\n",
    "    ])\n",
    "\n",
    "    timestamp = datetime.now().strftime(\"%Y%m%d_%H%M%S\")\n",
    "    report = {\n",
    "        \"experiment_name\": name,\n",
    "        \"endpoint\": endpoint,\n",
    "        \"params\": params,\n",
    "        \"timestamp\": timestamp,\n",
    "        \"metrics\": {\n",
    "            \"precision\": precision,\n",
    "            \"recall\": recall,\n",
    "            \"f1\": f1\n",
    "        }\n",
    "    }\n",
    "    report_path = reports_dir / f\"{name}_{timestamp}.json\"\n",
    "    with open(report_path, \"w\") as f:\n",
    "        json.dump(report, f, indent=2)\n",
    "\n",
    "    return name, precision, recall, f1, results_df\n"
   ]
  },
  {
   "cell_type": "code",
   "execution_count": 11,
   "id": "8caf9e94",
   "metadata": {},
   "outputs": [
    {
     "data": {
      "text/markdown": [
       "### Running **embedding_only**"
      ],
      "text/plain": [
       "<IPython.core.display.Markdown object>"
      ]
     },
     "metadata": {},
     "output_type": "display_data"
    },
    {
     "data": {
      "text/markdown": [
       "### Running **combined**"
      ],
      "text/plain": [
       "<IPython.core.display.Markdown object>"
      ]
     },
     "metadata": {},
     "output_type": "display_data"
    },
    {
     "data": {
      "text/markdown": [
       "### Running **hybrid_pg**"
      ],
      "text/plain": [
       "<IPython.core.display.Markdown object>"
      ]
     },
     "metadata": {},
     "output_type": "display_data"
    },
    {
     "data": {
      "application/vnd.microsoft.datawrangler.viewer.v0+json": {
       "columns": [
        {
         "name": "index",
         "rawType": "int64",
         "type": "integer"
        },
        {
         "name": "experiment",
         "rawType": "object",
         "type": "string"
        },
        {
         "name": "precision",
         "rawType": "float64",
         "type": "float"
        },
        {
         "name": "recall",
         "rawType": "float64",
         "type": "float"
        },
        {
         "name": "f1",
         "rawType": "float64",
         "type": "float"
        }
       ],
       "ref": "e43fef1d-1bb8-46b9-8b28-b440a693fb16",
       "rows": [
        [
         "0",
         "embedding_only",
         "0.8295454545454546",
         "0.5793650793650794",
         "0.6822429906542056"
        ],
        [
         "1",
         "combined",
         "0.6808510638297872",
         "1.0",
         "0.810126582278481"
        ],
        [
         "2",
         "hybrid_pg",
         "0.7011494252873564",
         "0.5304347826086957",
         "0.6039603960396039"
        ]
       ],
       "shape": {
        "columns": 4,
        "rows": 3
       }
      },
      "text/html": [
       "<div>\n",
       "<style scoped>\n",
       "    .dataframe tbody tr th:only-of-type {\n",
       "        vertical-align: middle;\n",
       "    }\n",
       "\n",
       "    .dataframe tbody tr th {\n",
       "        vertical-align: top;\n",
       "    }\n",
       "\n",
       "    .dataframe thead th {\n",
       "        text-align: right;\n",
       "    }\n",
       "</style>\n",
       "<table border=\"1\" class=\"dataframe\">\n",
       "  <thead>\n",
       "    <tr style=\"text-align: right;\">\n",
       "      <th></th>\n",
       "      <th>experiment</th>\n",
       "      <th>precision</th>\n",
       "      <th>recall</th>\n",
       "      <th>f1</th>\n",
       "    </tr>\n",
       "  </thead>\n",
       "  <tbody>\n",
       "    <tr>\n",
       "      <th>0</th>\n",
       "      <td>embedding_only</td>\n",
       "      <td>0.829545</td>\n",
       "      <td>0.579365</td>\n",
       "      <td>0.682243</td>\n",
       "    </tr>\n",
       "    <tr>\n",
       "      <th>1</th>\n",
       "      <td>combined</td>\n",
       "      <td>0.680851</td>\n",
       "      <td>1.000000</td>\n",
       "      <td>0.810127</td>\n",
       "    </tr>\n",
       "    <tr>\n",
       "      <th>2</th>\n",
       "      <td>hybrid_pg</td>\n",
       "      <td>0.701149</td>\n",
       "      <td>0.530435</td>\n",
       "      <td>0.603960</td>\n",
       "    </tr>\n",
       "  </tbody>\n",
       "</table>\n",
       "</div>"
      ],
      "text/plain": [
       "       experiment  precision    recall        f1\n",
       "0  embedding_only   0.829545  0.579365  0.682243\n",
       "1        combined   0.680851  1.000000  0.810127\n",
       "2       hybrid_pg   0.701149  0.530435  0.603960"
      ]
     },
     "metadata": {},
     "output_type": "display_data"
    }
   ],
   "source": [
    "experiments = []\n",
    "for name, endpoint in ENDPOINTS.items():\n",
    "    display(Markdown(f\"### Running **{name}**\"))\n",
    "    result = run_experiment(name, endpoint)\n",
    "    experiments.append(result)\n",
    "\n",
    "metrics_df = pd.DataFrame(\n",
    "    [{\"experiment\": n, \"precision\": p, \"recall\": r, \"f1\": f} for n,p,r,f,_ in experiments]\n",
    ")\n",
    "\n",
    "display(metrics_df)"
   ]
  },
  {
   "cell_type": "code",
   "execution_count": 12,
   "id": "9c31e236",
   "metadata": {},
   "outputs": [
    {
     "data": {
      "image/png": "[encoded data removed]",
      "text/plain": [
       "<Figure size 800x500 with 1 Axes>"
      ]
     },
     "metadata": {},
     "output_type": "display_data"
    }
   ],
   "source": [
    "metrics_df.set_index(\"experiment\")[[\"precision\",\"recall\",\"f1\"]].plot(\n",
    "    kind=\"bar\", figsize=(8,5), title=\"Baseline Performance\", rot=0\n",
    ")\n",
    "plt.ylim(0,1)\n",
    "plt.ylabel(\"Score\")\n",
    "plt.show()"
   ]
  },
  {
   "cell_type": "code",
   "execution_count": 13,
   "id": "a0109f7d",
   "metadata": {},
   "outputs": [],
   "source": [
    "embedding_thresholds = [0.5, 0.6, 0.7, 0.8, 0.9]\n",
    "weight_ratios = [(0.9,0.1),(0.8,0.2),(0.7,0.3),(0.6,0.4),(0.5,0.5)]\n",
    "\n",
    "sweep_results = []\n",
    "\n",
    "# Sweep embedding-only thresholds\n",
    "for t in embedding_thresholds:\n",
    "    _, p, r, f1, _ = run_experiment(f\"embedding_t{t}\", \"/suggestions\", params={\"threshold\": t})\n",
    "    sweep_results.append({\"method\": \"embedding_only\", \"param\": t, \"precision\": p, \"recall\": r, \"f1\": f1})\n",
    "\n",
    "# Sweep weights for combined and hybrid\n",
    "for w1, w2 in weight_ratios:\n",
    "    for method, endpoint in [(\"combined\",\"/suggestions/combined\"),(\"hybrid_pg\",\"/suggestions/hybrid\")]:\n",
    "        _, p, r, f1, _ = run_experiment(f\"{method}_{w1}_{w2}\", endpoint, params={\"embed_weight\": w1, \"fuzzy_weight\": w2})\n",
    "        sweep_results.append({\"method\": method, \"param\": f\"{w1}:{w2}\", \"precision\": p, \"recall\": r, \"f1\": f1})\n",
    "\n",
    "df_sweep = pd.DataFrame(sweep_results)"
   ]
  },
  {
   "cell_type": "code",
   "execution_count": 14,
   "id": "a0d745f6",
   "metadata": {},
   "outputs": [
    {
     "data": {
      "image/png": "[encoded data removed]",
      "text/plain": [
       "<Figure size 800x500 with 1 Axes>"
      ]
     },
     "metadata": {},
     "output_type": "display_data"
    }
   ],
   "source": [
    "df_emb = df_sweep[df_sweep[\"method\"]==\"embedding_only\"]\n",
    "plt.figure(figsize=(8,5))\n",
    "plt.plot(df_emb[\"param\"], df_emb[\"precision\"], marker=\"o\", label=\"Precision\")\n",
    "plt.plot(df_emb[\"param\"], df_emb[\"recall\"], marker=\"o\", label=\"Recall\")\n",
    "plt.plot(df_emb[\"param\"], df_emb[\"f1\"], marker=\"o\", label=\"F1\")\n",
    "plt.title(\"Embedding-only: Effect of Threshold\")\n",
    "plt.xlabel(\"Threshold\")\n",
    "plt.ylabel(\"Score\")\n",
    "plt.legend()\n",
    "plt.ylim(0,1)\n",
    "plt.show()"
   ]
  },
  {
   "cell_type": "code",
   "execution_count": 15,
   "id": "b2d057c3",
   "metadata": {},
   "outputs": [
    {
     "data": {
      "image/png": "[encoded data removed]",
      "text/plain": [
       "<Figure size 1122.12x500 with 1 Axes>"
      ]
     },
     "metadata": {},
     "output_type": "display_data"
    }
   ],
   "source": [
    "df_weights = df_sweep[df_sweep[\"method\"].isin([\"combined\",\"hybrid_pg\"])]\n",
    "sns.catplot(\n",
    "    data=df_weights, x=\"param\", y=\"f1\", hue=\"method\",\n",
    "    kind=\"bar\", height=5, aspect=2\n",
    ")\n",
    "plt.title(\"Effect of Weight Ratio on F1 (Combined & Hybrid)\")\n",
    "plt.xlabel(\"Embed:Fuzzy Weight Ratio\")\n",
    "plt.ylabel(\"F1 Score\")\n",
    "plt.ylim(0,1)\n",
    "plt.show()\n"
   ]
  },
  {
   "cell_type": "code",
   "execution_count": 6,
   "id": "3126f677",
   "metadata": {},
   "outputs": [
    {
     "data": {
      "text/markdown": [
       "### Incorrect Predictions for embedding_only"
      ],
      "text/plain": [
       "<IPython.core.display.Markdown object>"
      ]
     },
     "metadata": {},
     "output_type": "display_data"
    },
    {
     "data": {
      "application/vnd.microsoft.datawrangler.viewer.v0+json": {
       "columns": [
        {
         "name": "index",
         "rawType": "int64",
         "type": "integer"
        },
        {
         "name": "input_title",
         "rawType": "object",
         "type": "string"
        },
        {
         "name": "expected",
         "rawType": "object",
         "type": "string"
        },
        {
         "name": "predicted",
         "rawType": "object",
         "type": "unknown"
        },
        {
         "name": "correct",
         "rawType": "bool",
         "type": "boolean"
        }
       ],
       "ref": "d78721cb-d67c-464a-ab53-3ffa01dbe6de",
       "rows": [
        [
         "7",
         "lab tech",
         "Medical and Clinical Lab Technicians",
         "Medical and Clinical Laboratory Technicians",
         "False"
        ],
        [
         "10",
         "rn",
         "Registered Nurses",
         null,
         "False"
        ],
        [
         "12",
         "surgeon",
         "Surgeons",
         "Pediatric Surgeons",
         "False"
        ],
        [
         "16",
         "cna",
         "Nursing Assistants",
         null,
         "False"
        ],
        [
         "17",
         "school nurse",
         "Registered Nurses",
         null,
         "False"
        ],
        [
         "18",
         "school counselor",
         "Educational, Guidance, and Career Counselors and Advisors",
         "School Psychologists",
         "False"
        ],
        [
         "20",
         "math teacher",
         "Secondary School Teachers, Except Special and Career/Technical Education",
         "Mathematical Science Teachers, Postsecondary",
         "False"
        ],
        [
         "22",
         "elementary teacher",
         "Elementary School Teachers",
         null,
         "False"
        ],
        [
         "23",
         "special ed teacher",
         "Special Education Teachers",
         "Special Education Teachers, Elementary School",
         "False"
        ],
        [
         "25",
         "preschool teacher",
         "Preschool Teachers",
         "Preschool Teachers, Except Special Education",
         "False"
        ]
       ],
       "shape": {
        "columns": 4,
        "rows": 10
       }
      },
      "text/html": [
       "<div>\n",
       "<style scoped>\n",
       "    .dataframe tbody tr th:only-of-type {\n",
       "        vertical-align: middle;\n",
       "    }\n",
       "\n",
       "    .dataframe tbody tr th {\n",
       "        vertical-align: top;\n",
       "    }\n",
       "\n",
       "    .dataframe thead th {\n",
       "        text-align: right;\n",
       "    }\n",
       "</style>\n",
       "<table border=\"1\" class=\"dataframe\">\n",
       "  <thead>\n",
       "    <tr style=\"text-align: right;\">\n",
       "      <th></th>\n",
       "      <th>input_title</th>\n",
       "      <th>expected</th>\n",
       "      <th>predicted</th>\n",
       "      <th>correct</th>\n",
       "    </tr>\n",
       "  </thead>\n",
       "  <tbody>\n",
       "    <tr>\n",
       "      <th>7</th>\n",
       "      <td>lab tech</td>\n",
       "      <td>Medical and Clinical Lab Technicians</td>\n",
       "      <td>Medical and Clinical Laboratory Technicians</td>\n",
       "      <td>False</td>\n",
       "    </tr>\n",
       "    <tr>\n",
       "      <th>10</th>\n",
       "      <td>rn</td>\n",
       "      <td>Registered Nurses</td>\n",
       "      <td>None</td>\n",
       "      <td>False</td>\n",
       "    </tr>\n",
       "    <tr>\n",
       "      <th>12</th>\n",
       "      <td>surgeon</td>\n",
       "      <td>Surgeons</td>\n",
       "      <td>Pediatric Surgeons</td>\n",
       "      <td>False</td>\n",
       "    </tr>\n",
       "    <tr>\n",
       "      <th>16</th>\n",
       "      <td>cna</td>\n",
       "      <td>Nursing Assistants</td>\n",
       "      <td>None</td>\n",
       "      <td>False</td>\n",
       "    </tr>\n",
       "    <tr>\n",
       "      <th>17</th>\n",
       "      <td>school nurse</td>\n",
       "      <td>Registered Nurses</td>\n",
       "      <td>None</td>\n",
       "      <td>False</td>\n",
       "    </tr>\n",
       "    <tr>\n",
       "      <th>18</th>\n",
       "      <td>school counselor</td>\n",
       "      <td>Educational, Guidance, and Career Counselors a...</td>\n",
       "      <td>School Psychologists</td>\n",
       "      <td>False</td>\n",
       "    </tr>\n",
       "    <tr>\n",
       "      <th>20</th>\n",
       "      <td>math teacher</td>\n",
       "      <td>Secondary School Teachers, Except Special and ...</td>\n",
       "      <td>Mathematical Science Teachers, Postsecondary</td>\n",
       "      <td>False</td>\n",
       "    </tr>\n",
       "    <tr>\n",
       "      <th>22</th>\n",
       "      <td>elementary teacher</td>\n",
       "      <td>Elementary School Teachers</td>\n",
       "      <td>None</td>\n",
       "      <td>False</td>\n",
       "    </tr>\n",
       "    <tr>\n",
       "      <th>23</th>\n",
       "      <td>special ed teacher</td>\n",
       "      <td>Special Education Teachers</td>\n",
       "      <td>Special Education Teachers, Elementary School</td>\n",
       "      <td>False</td>\n",
       "    </tr>\n",
       "    <tr>\n",
       "      <th>25</th>\n",
       "      <td>preschool teacher</td>\n",
       "      <td>Preschool Teachers</td>\n",
       "      <td>Preschool Teachers, Except Special Education</td>\n",
       "      <td>False</td>\n",
       "    </tr>\n",
       "  </tbody>\n",
       "</table>\n",
       "</div>"
      ],
      "text/plain": [
       "           input_title                                           expected  \\\n",
       "7             lab tech               Medical and Clinical Lab Technicians   \n",
       "10                  rn                                  Registered Nurses   \n",
       "12             surgeon                                           Surgeons   \n",
       "16                 cna                                 Nursing Assistants   \n",
       "17        school nurse                                  Registered Nurses   \n",
       "18    school counselor  Educational, Guidance, and Career Counselors a...   \n",
       "20        math teacher  Secondary School Teachers, Except Special and ...   \n",
       "22  elementary teacher                         Elementary School Teachers   \n",
       "23  special ed teacher                         Special Education Teachers   \n",
       "25   preschool teacher                                 Preschool Teachers   \n",
       "\n",
       "                                        predicted  correct  \n",
       "7     Medical and Clinical Laboratory Technicians    False  \n",
       "10                                           None    False  \n",
       "12                             Pediatric Surgeons    False  \n",
       "16                                           None    False  \n",
       "17                                           None    False  \n",
       "18                           School Psychologists    False  \n",
       "20   Mathematical Science Teachers, Postsecondary    False  \n",
       "22                                           None    False  \n",
       "23  Special Education Teachers, Elementary School    False  \n",
       "25   Preschool Teachers, Except Special Education    False  "
      ]
     },
     "metadata": {},
     "output_type": "display_data"
    },
    {
     "data": {
      "text/markdown": [
       "### Incorrect Predictions for combined"
      ],
      "text/plain": [
       "<IPython.core.display.Markdown object>"
      ]
     },
     "metadata": {},
     "output_type": "display_data"
    },
    {
     "data": {
      "application/vnd.microsoft.datawrangler.viewer.v0+json": {
       "columns": [
        {
         "name": "index",
         "rawType": "int64",
         "type": "integer"
        },
        {
         "name": "input_title",
         "rawType": "object",
         "type": "string"
        },
        {
         "name": "expected",
         "rawType": "object",
         "type": "string"
        },
        {
         "name": "predicted",
         "rawType": "object",
         "type": "string"
        },
        {
         "name": "correct",
         "rawType": "bool",
         "type": "boolean"
        }
       ],
       "ref": "5e98bdae-08d8-4977-9df3-f0f8db6f272c",
       "rows": [
        [
         "7",
         "lab tech",
         "Medical and Clinical Lab Technicians",
         "Medical and Clinical Laboratory Technicians",
         "False"
        ],
        [
         "8",
         "research assistant",
         "Medical Assistants",
         "Social Science Research Assistants",
         "False"
        ],
        [
         "12",
         "surgeon",
         "Surgeons",
         "Pediatric Surgeons",
         "False"
        ],
        [
         "17",
         "school nurse",
         "Registered Nurses",
         "Nurse Midwives",
         "False"
        ],
        [
         "18",
         "school counselor",
         "Educational, Guidance, and Career Counselors and Advisors",
         "School Psychologists",
         "False"
        ],
        [
         "20",
         "math teacher",
         "Secondary School Teachers, Except Special and Career/Technical Education",
         "Mathematical Science Teachers, Postsecondary",
         "False"
        ],
        [
         "22",
         "elementary teacher",
         "Elementary School Teachers",
         "Elementary School Teachers, Except Special Education",
         "False"
        ],
        [
         "23",
         "special ed teacher",
         "Special Education Teachers",
         "Special Education Teachers, Elementary School",
         "False"
        ],
        [
         "25",
         "preschool teacher",
         "Preschool Teachers",
         "Preschool Teachers, Except Special Education",
         "False"
        ],
        [
         "26",
         "college professor",
         "Postsecondary Teachers",
         "Business Teachers, Postsecondary",
         "False"
        ]
       ],
       "shape": {
        "columns": 4,
        "rows": 10
       }
      },
      "text/html": [
       "<div>\n",
       "<style scoped>\n",
       "    .dataframe tbody tr th:only-of-type {\n",
       "        vertical-align: middle;\n",
       "    }\n",
       "\n",
       "    .dataframe tbody tr th {\n",
       "        vertical-align: top;\n",
       "    }\n",
       "\n",
       "    .dataframe thead th {\n",
       "        text-align: right;\n",
       "    }\n",
       "</style>\n",
       "<table border=\"1\" class=\"dataframe\">\n",
       "  <thead>\n",
       "    <tr style=\"text-align: right;\">\n",
       "      <th></th>\n",
       "      <th>input_title</th>\n",
       "      <th>expected</th>\n",
       "      <th>predicted</th>\n",
       "      <th>correct</th>\n",
       "    </tr>\n",
       "  </thead>\n",
       "  <tbody>\n",
       "    <tr>\n",
       "      <th>7</th>\n",
       "      <td>lab tech</td>\n",
       "      <td>Medical and Clinical Lab Technicians</td>\n",
       "      <td>Medical and Clinical Laboratory Technicians</td>\n",
       "      <td>False</td>\n",
       "    </tr>\n",
       "    <tr>\n",
       "      <th>8</th>\n",
       "      <td>research assistant</td>\n",
       "      <td>Medical Assistants</td>\n",
       "      <td>Social Science Research Assistants</td>\n",
       "      <td>False</td>\n",
       "    </tr>\n",
       "    <tr>\n",
       "      <th>12</th>\n",
       "      <td>surgeon</td>\n",
       "      <td>Surgeons</td>\n",
       "      <td>Pediatric Surgeons</td>\n",
       "      <td>False</td>\n",
       "    </tr>\n",
       "    <tr>\n",
       "      <th>17</th>\n",
       "      <td>school nurse</td>\n",
       "      <td>Registered Nurses</td>\n",
       "      <td>Nurse Midwives</td>\n",
       "      <td>False</td>\n",
       "    </tr>\n",
       "    <tr>\n",
       "      <th>18</th>\n",
       "      <td>school counselor</td>\n",
       "      <td>Educational, Guidance, and Career Counselors a...</td>\n",
       "      <td>School Psychologists</td>\n",
       "      <td>False</td>\n",
       "    </tr>\n",
       "    <tr>\n",
       "      <th>20</th>\n",
       "      <td>math teacher</td>\n",
       "      <td>Secondary School Teachers, Except Special and ...</td>\n",
       "      <td>Mathematical Science Teachers, Postsecondary</td>\n",
       "      <td>False</td>\n",
       "    </tr>\n",
       "    <tr>\n",
       "      <th>22</th>\n",
       "      <td>elementary teacher</td>\n",
       "      <td>Elementary School Teachers</td>\n",
       "      <td>Elementary School Teachers, Except Special Edu...</td>\n",
       "      <td>False</td>\n",
       "    </tr>\n",
       "    <tr>\n",
       "      <th>23</th>\n",
       "      <td>special ed teacher</td>\n",
       "      <td>Special Education Teachers</td>\n",
       "      <td>Special Education Teachers, Elementary School</td>\n",
       "      <td>False</td>\n",
       "    </tr>\n",
       "    <tr>\n",
       "      <th>25</th>\n",
       "      <td>preschool teacher</td>\n",
       "      <td>Preschool Teachers</td>\n",
       "      <td>Preschool Teachers, Except Special Education</td>\n",
       "      <td>False</td>\n",
       "    </tr>\n",
       "    <tr>\n",
       "      <th>26</th>\n",
       "      <td>college professor</td>\n",
       "      <td>Postsecondary Teachers</td>\n",
       "      <td>Business Teachers, Postsecondary</td>\n",
       "      <td>False</td>\n",
       "    </tr>\n",
       "  </tbody>\n",
       "</table>\n",
       "</div>"
      ],
      "text/plain": [
       "           input_title                                           expected  \\\n",
       "7             lab tech               Medical and Clinical Lab Technicians   \n",
       "8   research assistant                                 Medical Assistants   \n",
       "12             surgeon                                           Surgeons   \n",
       "17        school nurse                                  Registered Nurses   \n",
       "18    school counselor  Educational, Guidance, and Career Counselors a...   \n",
       "20        math teacher  Secondary School Teachers, Except Special and ...   \n",
       "22  elementary teacher                         Elementary School Teachers   \n",
       "23  special ed teacher                         Special Education Teachers   \n",
       "25   preschool teacher                                 Preschool Teachers   \n",
       "26   college professor                             Postsecondary Teachers   \n",
       "\n",
       "                                            predicted  correct  \n",
       "7         Medical and Clinical Laboratory Technicians    False  \n",
       "8                  Social Science Research Assistants    False  \n",
       "12                                 Pediatric Surgeons    False  \n",
       "17                                     Nurse Midwives    False  \n",
       "18                               School Psychologists    False  \n",
       "20       Mathematical Science Teachers, Postsecondary    False  \n",
       "22  Elementary School Teachers, Except Special Edu...    False  \n",
       "23      Special Education Teachers, Elementary School    False  \n",
       "25       Preschool Teachers, Except Special Education    False  \n",
       "26                   Business Teachers, Postsecondary    False  "
      ]
     },
     "metadata": {},
     "output_type": "display_data"
    },
    {
     "data": {
      "text/markdown": [
       "### Incorrect Predictions for hybrid_pg"
      ],
      "text/plain": [
       "<IPython.core.display.Markdown object>"
      ]
     },
     "metadata": {},
     "output_type": "display_data"
    },
    {
     "data": {
      "application/vnd.microsoft.datawrangler.viewer.v0+json": {
       "columns": [
        {
         "name": "index",
         "rawType": "int64",
         "type": "integer"
        },
        {
         "name": "input_title",
         "rawType": "object",
         "type": "string"
        },
        {
         "name": "expected",
         "rawType": "object",
         "type": "string"
        },
        {
         "name": "predicted",
         "rawType": "object",
         "type": "unknown"
        },
        {
         "name": "correct",
         "rawType": "bool",
         "type": "boolean"
        }
       ],
       "ref": "c833ecb8-3095-4c8e-8cfe-c432b53ee682",
       "rows": [
        [
         "7",
         "lab tech",
         "Medical and Clinical Lab Technicians",
         null,
         "False"
        ],
        [
         "8",
         "research assistant",
         "Medical Assistants",
         "Social Science Research Assistants",
         "False"
        ],
        [
         "10",
         "rn",
         "Registered Nurses",
         null,
         "False"
        ],
        [
         "11",
         "family doctor",
         "Family Medicine Physicians",
         null,
         "False"
        ],
        [
         "12",
         "surgeon",
         "Surgeons",
         "Pediatric Surgeons",
         "False"
        ],
        [
         "15",
         "vet tech",
         "Veterinary Technologists and Technicians",
         null,
         "False"
        ],
        [
         "16",
         "cna",
         "Nursing Assistants",
         null,
         "False"
        ],
        [
         "17",
         "school nurse",
         "Registered Nurses",
         null,
         "False"
        ],
        [
         "18",
         "school counselor",
         "Educational, Guidance, and Career Counselors and Advisors",
         "Credit Counselors",
         "False"
        ],
        [
         "20",
         "math teacher",
         "Secondary School Teachers, Except Special and Career/Technical Education",
         null,
         "False"
        ]
       ],
       "shape": {
        "columns": 4,
        "rows": 10
       }
      },
      "text/html": [
       "<div>\n",
       "<style scoped>\n",
       "    .dataframe tbody tr th:only-of-type {\n",
       "        vertical-align: middle;\n",
       "    }\n",
       "\n",
       "    .dataframe tbody tr th {\n",
       "        vertical-align: top;\n",
       "    }\n",
       "\n",
       "    .dataframe thead th {\n",
       "        text-align: right;\n",
       "    }\n",
       "</style>\n",
       "<table border=\"1\" class=\"dataframe\">\n",
       "  <thead>\n",
       "    <tr style=\"text-align: right;\">\n",
       "      <th></th>\n",
       "      <th>input_title</th>\n",
       "      <th>expected</th>\n",
       "      <th>predicted</th>\n",
       "      <th>correct</th>\n",
       "    </tr>\n",
       "  </thead>\n",
       "  <tbody>\n",
       "    <tr>\n",
       "      <th>7</th>\n",
       "      <td>lab tech</td>\n",
       "      <td>Medical and Clinical Lab Technicians</td>\n",
       "      <td>None</td>\n",
       "      <td>False</td>\n",
       "    </tr>\n",
       "    <tr>\n",
       "      <th>8</th>\n",
       "      <td>research assistant</td>\n",
       "      <td>Medical Assistants</td>\n",
       "      <td>Social Science Research Assistants</td>\n",
       "      <td>False</td>\n",
       "    </tr>\n",
       "    <tr>\n",
       "      <th>10</th>\n",
       "      <td>rn</td>\n",
       "      <td>Registered Nurses</td>\n",
       "      <td>None</td>\n",
       "      <td>False</td>\n",
       "    </tr>\n",
       "    <tr>\n",
       "      <th>11</th>\n",
       "      <td>family doctor</td>\n",
       "      <td>Family Medicine Physicians</td>\n",
       "      <td>None</td>\n",
       "      <td>False</td>\n",
       "    </tr>\n",
       "    <tr>\n",
       "      <th>12</th>\n",
       "      <td>surgeon</td>\n",
       "      <td>Surgeons</td>\n",
       "      <td>Pediatric Surgeons</td>\n",
       "      <td>False</td>\n",
       "    </tr>\n",
       "    <tr>\n",
       "      <th>15</th>\n",
       "      <td>vet tech</td>\n",
       "      <td>Veterinary Technologists and Technicians</td>\n",
       "      <td>None</td>\n",
       "      <td>False</td>\n",
       "    </tr>\n",
       "    <tr>\n",
       "      <th>16</th>\n",
       "      <td>cna</td>\n",
       "      <td>Nursing Assistants</td>\n",
       "      <td>None</td>\n",
       "      <td>False</td>\n",
       "    </tr>\n",
       "    <tr>\n",
       "      <th>17</th>\n",
       "      <td>school nurse</td>\n",
       "      <td>Registered Nurses</td>\n",
       "      <td>None</td>\n",
       "      <td>False</td>\n",
       "    </tr>\n",
       "    <tr>\n",
       "      <th>18</th>\n",
       "      <td>school counselor</td>\n",
       "      <td>Educational, Guidance, and Career Counselors a...</td>\n",
       "      <td>Credit Counselors</td>\n",
       "      <td>False</td>\n",
       "    </tr>\n",
       "    <tr>\n",
       "      <th>20</th>\n",
       "      <td>math teacher</td>\n",
       "      <td>Secondary School Teachers, Except Special and ...</td>\n",
       "      <td>None</td>\n",
       "      <td>False</td>\n",
       "    </tr>\n",
       "  </tbody>\n",
       "</table>\n",
       "</div>"
      ],
      "text/plain": [
       "           input_title                                           expected  \\\n",
       "7             lab tech               Medical and Clinical Lab Technicians   \n",
       "8   research assistant                                 Medical Assistants   \n",
       "10                  rn                                  Registered Nurses   \n",
       "11       family doctor                         Family Medicine Physicians   \n",
       "12             surgeon                                           Surgeons   \n",
       "15            vet tech           Veterinary Technologists and Technicians   \n",
       "16                 cna                                 Nursing Assistants   \n",
       "17        school nurse                                  Registered Nurses   \n",
       "18    school counselor  Educational, Guidance, and Career Counselors a...   \n",
       "20        math teacher  Secondary School Teachers, Except Special and ...   \n",
       "\n",
       "                             predicted  correct  \n",
       "7                                 None    False  \n",
       "8   Social Science Research Assistants    False  \n",
       "10                                None    False  \n",
       "11                                None    False  \n",
       "12                  Pediatric Surgeons    False  \n",
       "15                                None    False  \n",
       "16                                None    False  \n",
       "17                                None    False  \n",
       "18                   Credit Counselors    False  \n",
       "20                                None    False  "
      ]
     },
     "metadata": {},
     "output_type": "display_data"
    }
   ],
   "source": [
    "for name,_,_,_,df in experiments:\n",
    "    incorrect = df[df[\"correct\"] == False].head(10)\n",
    "    display(Markdown(f\"### Incorrect Predictions for {name}\"))\n",
    "    display(incorrect)\n"
   ]
  }
 ],
 "metadata": {
  "kernelspec": {
   "display_name": ".venv",
   "language": "python",
   "name": "python3"
  },
  "language_info": {
   "codemirror_mode": {
    "name": "ipython",
    "version": 3
   },
   "file_extension": ".py",
   "mimetype": "text/x-python",
   "name": "python",
   "nbconvert_exporter": "python",
   "pygments_lexer": "ipython3",
   "version": "3.10.14"
  }
 },
 "nbformat": 4,
 "nbformat_minor": 5
}
